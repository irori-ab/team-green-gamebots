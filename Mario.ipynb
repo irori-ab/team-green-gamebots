{
 "cells": [
  {
   "cell_type": "raw",
   "id": "36041363-7573-45ff-9d71-978fef00a22d",
   "metadata": {},
   "source": [
    "Setup Mario"
   ]
  },
  {
   "cell_type": "code",
   "execution_count": 1,
   "id": "a630e92c-101f-4d3e-be04-bcf6ef7798f4",
   "metadata": {},
   "outputs": [
    {
     "name": "stdout",
     "output_type": "stream",
     "text": [
      "Requirement already satisfied: gym_super_mario_bros==7.3.0 in /opt/homebrew/lib/python3.11/site-packages (7.3.0)\n",
      "Requirement already satisfied: nes_py in /opt/homebrew/lib/python3.11/site-packages (8.2.1)\n",
      "Requirement already satisfied: gym>=0.17.2 in /opt/homebrew/lib/python3.11/site-packages (from nes_py) (0.26.2)\n",
      "Requirement already satisfied: numpy>=1.18.5 in /opt/homebrew/lib/python3.11/site-packages (from nes_py) (1.26.4)\n",
      "Requirement already satisfied: pyglet<=1.5.21,>=1.4.0 in /opt/homebrew/lib/python3.11/site-packages (from nes_py) (1.5.21)\n",
      "Requirement already satisfied: tqdm>=4.48.2 in /opt/homebrew/lib/python3.11/site-packages (from nes_py) (4.66.4)\n",
      "Requirement already satisfied: cloudpickle>=1.2.0 in /opt/homebrew/lib/python3.11/site-packages (from gym>=0.17.2->nes_py) (3.0.0)\n",
      "Requirement already satisfied: gym-notices>=0.0.4 in /opt/homebrew/lib/python3.11/site-packages (from gym>=0.17.2->nes_py) (0.0.8)\n",
      "\n",
      "\u001b[1m[\u001b[0m\u001b[34;49mnotice\u001b[0m\u001b[1;39;49m]\u001b[0m\u001b[39;49m A new release of pip is available: \u001b[0m\u001b[31;49m23.3.1\u001b[0m\u001b[39;49m -> \u001b[0m\u001b[32;49m24.2\u001b[0m\n",
      "\u001b[1m[\u001b[0m\u001b[34;49mnotice\u001b[0m\u001b[1;39;49m]\u001b[0m\u001b[39;49m To update, run: \u001b[0m\u001b[32;49mpython3.11 -m pip install --upgrade pip\u001b[0m\n"
     ]
    }
   ],
   "source": [
    "!pip3 install gym_super_mario_bros==7.3.0 nes_py"
   ]
  },
  {
   "cell_type": "code",
   "execution_count": 2,
   "id": "930293ed-bb68-4f90-b5e1-9850c238412d",
   "metadata": {},
   "outputs": [],
   "source": [
    "#import the game\n",
    "import gym_super_mario_bros\n",
    "#import the Joypad Wrapper\n",
    "from nes_py.wrappers import JoypadSpace\n",
    "#import the SIMPLIFIED controls\n",
    "from gym_super_mario_bros.actions import SIMPLE_MOVEMENT"
   ]
  },
  {
   "cell_type": "code",
   "execution_count": 3,
   "id": "2ae8a526-922a-4c32-bb8d-6ce3e50ba9ef",
   "metadata": {},
   "outputs": [
    {
     "name": "stderr",
     "output_type": "stream",
     "text": [
      "/opt/homebrew/lib/python3.11/site-packages/gym/envs/registration.py:555: UserWarning: \u001b[33mWARN: The environment SuperMarioBros-v0 is out of date. You should consider upgrading to version `v3`.\u001b[0m\n",
      "  logger.warn(\n"
     ]
    }
   ],
   "source": [
    "# Setup Game\n",
    "env = gym_super_mario_bros.make('SuperMarioBros-v0',apply_api_compatibility=True,render_mode=\"human\" )\n",
    "env = JoypadSpace(env, SIMPLE_MOVEMENT)"
   ]
  },
  {
   "cell_type": "code",
   "execution_count": null,
   "id": "e107ee51-af5c-4321-a341-a002d489d023",
   "metadata": {
    "scrolled": true
   },
   "outputs": [],
   "source": [
    "# Create a flag - restart or not\n",
    "done = True\n",
    "# Loop through each frame in the game\n",
    "for step in range(100000):\n",
    "    # Start the game to begin with\n",
    "    if done:\n",
    "        # Start the game\n",
    "        env.reset()\n",
    "        # Do random actions\n",
    "    state, reward, done, _, info = env.step(env.action_space.sample())\n",
    "    # Show the game on the screen\n",
    "    env.render()\n",
    "# Close the game\n",
    "env.close()"
   ]
  },
  {
   "cell_type": "raw",
   "id": "274f15a7-fb4d-4c14-b5c5-eec76f8bcae0",
   "metadata": {},
   "source": [
    "Preprocess Environment"
   ]
  },
  {
   "cell_type": "code",
   "execution_count": null,
   "id": "8ac62a02-f1ed-40a8-ac83-6bc5b42444a8",
   "metadata": {},
   "outputs": [],
   "source": [
    "# Install pytorch\n",
    "# pip3 install torch torchvision torchaudio\n",
    "!pip3 install torch torchvision torchaudio"
   ]
  },
  {
   "cell_type": "code",
   "execution_count": null,
   "id": "2c5751c1-c2a8-4d55-a2ce-30e81d3335ad",
   "metadata": {},
   "outputs": [],
   "source": [
    "# Install stable baselines for RL stuff\n",
    "!pip3 install stable-baselines3\\[extra\\]"
   ]
  },
  {
   "cell_type": "code",
   "execution_count": null,
   "id": "25829234-bc10-4665-a991-a354aebf03d8",
   "metadata": {},
   "outputs": [],
   "source": [
    "# Import Grayscaling Wrapper\n",
    "from gym.wrappers import GrayScaleObservation\n",
    "# Import Vectorization Wrappers (stable baselines 3 Reinforcement Learning library - PPO-algorithm)\n",
    "from stable_baselines3.common.vec_env import VecFrameStack, DummyVecEnv\n",
    "# Import MatPlotLib to show the impact of FrameStacking\n",
    "from matplotlib import pyplot as plt"
   ]
  },
  {
   "cell_type": "code",
   "execution_count": 5,
   "id": "592b516d-0526-4272-8119-ca0e6d977eca",
   "metadata": {},
   "outputs": [
    {
     "ename": "NameError",
     "evalue": "name 'GrayScaleObservation' is not defined",
     "output_type": "error",
     "traceback": [
      "\u001b[0;31m---------------------------------------------------------------------------\u001b[0m",
      "\u001b[0;31mNameError\u001b[0m                                 Traceback (most recent call last)",
      "Cell \u001b[0;32mIn[5], line 8\u001b[0m\n\u001b[1;32m      6\u001b[0m env \u001b[38;5;241m=\u001b[39m JoypadSpace(env, SIMPLE_MOVEMENT)\n\u001b[1;32m      7\u001b[0m \u001b[38;5;66;03m# 3. GrayScale the environment\u001b[39;00m\n\u001b[0;32m----> 8\u001b[0m env \u001b[38;5;241m=\u001b[39m \u001b[43mGrayScaleObservation\u001b[49m(env, keep_dim\u001b[38;5;241m=\u001b[39m\u001b[38;5;28;01mTrue\u001b[39;00m)\n\u001b[1;32m      9\u001b[0m \u001b[38;5;66;03m# 4. Wrap inside the dummy environment\u001b[39;00m\n\u001b[1;32m     10\u001b[0m env \u001b[38;5;241m=\u001b[39m DummyVecEnv([\u001b[38;5;28;01mlambda\u001b[39;00m: env])\n",
      "\u001b[0;31mNameError\u001b[0m: name 'GrayScaleObservation' is not defined"
     ]
    }
   ],
   "source": [
    "# Something i found while googling, i think it has something to do with the seed: investigate further\n",
    "JoypadSpace.reset = lambda self, **kwargs: self.env.reset(**kwargs)\n",
    "# 1. Create the base environment\n",
    "env = gym_super_mario_bros.make('SuperMarioBros-v0',apply_api_compatibility=True,render_mode=\"human\" )\n",
    "# 2. Simplify the controls\n",
    "env = JoypadSpace(env, SIMPLE_MOVEMENT)\n",
    "# 3. GrayScale the environment\n",
    "env = GrayScaleObservation(env, keep_dim=True)\n",
    "# 4. Wrap inside the dummy environment\n",
    "env = DummyVecEnv([lambda: env])\n",
    "# 5. Stack the frames\n",
    "env = VecFrameStack(env, 4, channels_order='last')"
   ]
  },
  {
   "cell_type": "code",
   "execution_count": null,
   "id": "01b84e6b-b99d-48e0-ad68-a12dff764937",
   "metadata": {},
   "outputs": [],
   "source": [
    "state = env.reset()"
   ]
  },
  {
   "cell_type": "code",
   "execution_count": null,
   "id": "f85377cd-d3a1-472c-a3f7-dcd2d6e42d8f",
   "metadata": {},
   "outputs": [],
   "source": [
    "state[0].shape"
   ]
  },
  {
   "cell_type": "code",
   "execution_count": null,
   "id": "7e7cf043-c165-4cd2-83f6-8c3af5934fc8",
   "metadata": {},
   "outputs": [],
   "source": [
    "state, reward, done, info = env.step([env.action_space.sample()])"
   ]
  },
  {
   "cell_type": "code",
   "execution_count": null,
   "id": "394a092a-f229-44c9-8290-b0ed37f28321",
   "metadata": {},
   "outputs": [],
   "source": [
    "# Use MatPlotLib to show the game frame\n",
    "plt.imshow(state[0])"
   ]
  },
  {
   "cell_type": "code",
   "execution_count": null,
   "id": "7fb91093-e2e8-4bfd-84cf-d7f4a325b554",
   "metadata": {},
   "outputs": [],
   "source": [
    "# Show 4 frames, it kind of gives our AI like a memory, so it does not just see one frame but actually 4.\n",
    "# This way our AI knows that mario is jumping for example. (SIMPLE_MOVEMENT[5])\n",
    "plt.figure(figsize=(20,16))\n",
    "for idx in range(state.shape[3]):\n",
    "    plt.subplot(1,4,idx+1)\n",
    "    plt.imshow(state[0][:,:,idx])\n",
    "plt.show()"
   ]
  },
  {
   "cell_type": "raw",
   "id": "8dbec346-0504-4615-ae4e-f46540cbecd4",
   "metadata": {},
   "source": [
    "Train the RL Model"
   ]
  },
  {
   "cell_type": "code",
   "execution_count": null,
   "id": "2256732b-9633-4573-ac00-8a933c5811a2",
   "metadata": {},
   "outputs": [],
   "source": [
    "# import os for file path management\n",
    "import os\n",
    "# import PPO for algos\n",
    "from stable_baselines3 import PPO\n",
    "# import Base Callback for saving models\n",
    "from stable_baselines3.common.callbacks import BaseCallback"
   ]
  },
  {
   "cell_type": "code",
   "execution_count": null,
   "id": "c9897dbd-e59a-4ad4-b3e1-3bd2e3edd69f",
   "metadata": {},
   "outputs": [],
   "source": [
    "# import os for file path management\n",
    "import os\n",
    "# import PPO for algos\n",
    "from stable_baselines3 import PPO\n",
    "# import Base Callback for saving models\n",
    "from stable_baselines3.common.callbacks import BaseCallback"
   ]
  },
  {
   "cell_type": "code",
   "execution_count": null,
   "id": "ac540c3a-923e-4f60-892f-2372d519464a",
   "metadata": {},
   "outputs": [],
   "source": [
    "class TrainAndLoggingCallback(BaseCallback):\n",
    "\n",
    "    def __init__(self, check_freq, save_path, verbose=1):\n",
    "        super(TrainAndLoggingCallback, self).__init__(verbose)\n",
    "        self.check_freq = check_freq\n",
    "        self.save_path = save_path\n",
    "\n",
    "    def _init_callback(self):\n",
    "        if self.save_path is not None:\n",
    "            os.makedirs(self.save_path, exist_ok=True)\n",
    "\n",
    "    def _on_step(self):\n",
    "        if self.n_calls % self.check_freq == 0:\n",
    "            model_path = os.path.join(self.save_path, 'best_model_{}'.format(self.n_calls))\n",
    "            self.model.save(model_path)\n",
    "\n",
    "        return True"
   ]
  },
  {
   "cell_type": "code",
   "execution_count": null,
   "id": "a806dd26-f64c-41b4-a9e9-4f3231757721",
   "metadata": {},
   "outputs": [],
   "source": [
    "CHECKPOINT_DIR = './train/'\n",
    "LOG_DIR = './logs/'"
   ]
  },
  {
   "cell_type": "code",
   "execution_count": null,
   "id": "6dd7f24a-a499-44e0-bc28-3e4a542ab1b0",
   "metadata": {},
   "outputs": [],
   "source": [
    "# setup model and saving callback\n",
    "callback = TrainAndLoggingCallback(check_freq=100000, save_path=CHECKPOINT_DIR)"
   ]
  },
  {
   "cell_type": "code",
   "execution_count": null,
   "id": "31460e52-abf0-48e1-8622-b07ab0c8f575",
   "metadata": {},
   "outputs": [],
   "source": [
    "# This is the AI model started\n",
    "model = PPO('CnnPolicy', env, verbose=1, tensorboard_log=LOG_DIR, learning_rate=0.000001, n_steps=512)"
   ]
  },
  {
   "cell_type": "code",
   "execution_count": null,
   "id": "d58a4906-2934-4d70-889b-80bf4b4011bd",
   "metadata": {},
   "outputs": [],
   "source": [
    "# Train the AI model, this is where the AI model starts to learn.\n",
    "# If we do not want the callback, we can just remove it here so remove callback=callback\n",
    "model.learn(total_timesteps=1000000, callback=callback)"
   ]
  },
  {
   "cell_type": "code",
   "execution_count": null,
   "id": "0a54cdd5-c7bc-4536-b971-c0525a3c90cc",
   "metadata": {},
   "outputs": [],
   "source": [
    "# Manually save the model\n",
    "model.save('latest_model')"
   ]
  },
  {
   "cell_type": "raw",
   "id": "27d06214-4d61-4476-bc35-c4a4ca75a2cf",
   "metadata": {},
   "source": [
    "Test it Out"
   ]
  },
  {
   "cell_type": "code",
   "execution_count": null,
   "id": "99ff7958-193f-4082-bbec-414842301f9b",
   "metadata": {},
   "outputs": [],
   "source": [
    "# Load model\n",
    "model = PPO.load('./train/best_model_900000')"
   ]
  },
  {
   "cell_type": "code",
   "execution_count": null,
   "id": "3441d927-f740-4e49-a570-5eceec6e2139",
   "metadata": {},
   "outputs": [],
   "source": [
    "model.learn(total_timesteps=1000000, callback=callback)"
   ]
  },
  {
   "cell_type": "code",
   "execution_count": null,
   "id": "841f66b0-1453-427e-909d-cefecae0bf36",
   "metadata": {},
   "outputs": [],
   "source": [
    "state = env.reset()"
   ]
  },
  {
   "cell_type": "code",
   "execution_count": null,
   "id": "94b7b742-b607-4494-b3bc-e9c7e2f1f8db",
   "metadata": {},
   "outputs": [],
   "source": [
    "SIMPLE_MOVEMENT[model.predict(state)[0][0]]"
   ]
  },
  {
   "cell_type": "code",
   "execution_count": null,
   "id": "b821cd34-f977-4aa7-9b5b-0f3536d20644",
   "metadata": {},
   "outputs": [],
   "source": [
    "# Start the game\n",
    "state = env.reset()\n",
    "# Loop through the game\n",
    "while True:\n",
    "    action, _ = model.predict(state)\n",
    "    state, reward, done, info = env.step(action)\n",
    "    env.render()"
   ]
  },
  {
   "cell_type": "code",
   "execution_count": null,
   "id": "3f66111a-e61c-466a-8339-284fc4e95ea2",
   "metadata": {},
   "outputs": [],
   "source": [
    "# Load model\n",
    "model = PPO.load('./train/best_model_200000')"
   ]
  },
  {
   "cell_type": "code",
   "execution_count": null,
   "id": "5263a4f8-79c3-4c2d-94c0-c8befb7e56f1",
   "metadata": {},
   "outputs": [],
   "source": [
    "model.set_env(env)"
   ]
  },
  {
   "cell_type": "code",
   "execution_count": null,
   "id": "74fa6a91-cf8e-4d88-985a-ae3b3decff13",
   "metadata": {},
   "outputs": [],
   "source": [
    "model.learn(total_timesteps=1000000, callback=callback)"
   ]
  },
  {
   "cell_type": "code",
   "execution_count": null,
   "id": "4a819a6d-3699-4d93-83cf-e7b8e1f06d48",
   "metadata": {},
   "outputs": [],
   "source": []
  }
 ],
 "metadata": {
  "kernelspec": {
   "display_name": "Python 3 (ipykernel)",
   "language": "python",
   "name": "python3"
  },
  "language_info": {
   "codemirror_mode": {
    "name": "ipython",
    "version": 3
   },
   "file_extension": ".py",
   "mimetype": "text/x-python",
   "name": "python",
   "nbconvert_exporter": "python",
   "pygments_lexer": "ipython3",
   "version": "3.11.7"
  }
 },
 "nbformat": 4,
 "nbformat_minor": 5
}
